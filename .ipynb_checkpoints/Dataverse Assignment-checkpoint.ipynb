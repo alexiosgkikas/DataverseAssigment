{
 "cells": [
  {
   "cell_type": "markdown",
   "id": "80534b9a",
   "metadata": {},
   "source": [
    "### Load libraries"
   ]
  },
  {
   "cell_type": "code",
   "execution_count": 17,
   "id": "8a857d7f",
   "metadata": {},
   "outputs": [],
   "source": [
    "#Import neccessay libraries\n",
    "import pandas as pd\n",
    "import matplotlib.pyplot as plt\n",
    "from datetime import datetime\n",
    "import math\n",
    "import numpy as np"
   ]
  },
  {
   "cell_type": "markdown",
   "id": "51bf3b14",
   "metadata": {},
   "source": [
    "### Load dataset"
   ]
  },
  {
   "cell_type": "code",
   "execution_count": 18,
   "id": "fe3817cf",
   "metadata": {
    "scrolled": true
   },
   "outputs": [
    {
     "name": "stdout",
     "output_type": "stream",
     "text": [
      "Dataset shape: (406719, 7)\n",
      "\n",
      "<class 'pandas.core.frame.DataFrame'>\n",
      "RangeIndex: 406719 entries, 0 to 406718\n",
      "Data columns (total 7 columns):\n",
      " #   Column         Non-Null Count   Dtype         \n",
      "---  ------         --------------   -----         \n",
      " 0   id             406719 non-null  int64         \n",
      " 1   timestamp      406719 non-null  datetime64[ns]\n",
      " 2   value          406719 non-null  float64       \n",
      " 3   identifier     406719 non-null  object        \n",
      " 4   value_type_id  406719 non-null  int64         \n",
      " 5   location_id    406719 non-null  float64       \n",
      " 6   source_id      406719 non-null  int64         \n",
      "dtypes: datetime64[ns](1), float64(2), int64(3), object(1)\n",
      "memory usage: 21.7+ MB\n",
      "None\n",
      "       id           timestamp    value identifier  value_type_id  location_id  \\\n",
      "7  427433 2019-04-25 13:20:09     0.00        P1H             12         23.0   \n",
      "2  427434 2019-04-25 13:20:09     0.00        P6H             13         23.0   \n",
      "3  427435 2019-04-25 13:20:09     0.51       P24H             14         23.0   \n",
      "0  427436 2019-04-25 13:20:09  1021.80       PMSL             20         23.0   \n",
      "9  427437 2019-04-25 13:20:09    53.00         RH             19         23.0   \n",
      "6  427438 2019-04-25 13:20:09    22.00          T             11         23.0   \n",
      "1  427439 2019-04-25 13:20:09    12.00        TDP             15         23.0   \n",
      "4  427440 2019-04-25 13:20:09     3.00        UVI             16         23.0   \n",
      "5  427441 2019-04-25 13:20:09    90.00         WD             17         23.0   \n",
      "8  427442 2019-04-25 13:20:09     1.00         WS             18         23.0   \n",
      "\n",
      "   source_id  \n",
      "7          5  \n",
      "2          5  \n",
      "3          5  \n",
      "0          5  \n",
      "9          5  \n",
      "6          5  \n",
      "1          5  \n",
      "4          5  \n",
      "5          5  \n",
      "8          5  \n"
     ]
    }
   ],
   "source": [
    "#load dataset\n",
    "filename = 'wheather_data.csv'\n",
    "df = pd.read_csv(filename)\n",
    "\n",
    "# convert string timestamp to datetime\n",
    "df['timestamp'] = pd.to_datetime(df['timestamp'], format = '%Y-%m-%d %H:%M:%S')\n",
    "#df['timestamp'] = datetime.strptime(df['timestamp'], '%y-%m-%d %H:%M:%S')\n",
    "\n",
    "#check the structiure of the dataset\n",
    "print('Dataset shape: '+str(df.shape)+'\\n')\n",
    "print(df.info())\n",
    "\n",
    "#sort based on the id column\n",
    "df = df.sort_values('id')\n",
    "\n",
    "print(df.head(10))"
   ]
  },
  {
   "cell_type": "markdown",
   "id": "3ce9a65d",
   "metadata": {},
   "source": [
    "## Fisrt Part - Analyzing and Preprocessing the dataset"
   ]
  },
  {
   "cell_type": "code",
   "execution_count": 19,
   "id": "5bc89710",
   "metadata": {
    "scrolled": true
   },
   "outputs": [
    {
     "name": "stdout",
     "output_type": "stream",
     "text": [
      "\n",
      "Min date: 2019-04-25 13:20:09, Max Date: 2019-07-29 23:40:08\n",
      "\n",
      "There are 24 unique identifiers.\n",
      "\n",
      "There are 5 unique locations in the dataset.\n",
      "\n",
      "location: 23.0, indicators: 24\n",
      "['P1H' 'P6H' 'P24H' 'PMSL' 'RH' 'T' 'TDP' 'UVI' 'WD' 'WS' 'CC' 'P3H' 'SM0'\n",
      " 'SM30' 'SM100' 'ST0' 'PC' 'P' 'ETref' 'ETmodel' 'ST30' 'ST100' 'ST10'\n",
      " 'pressureMeanSeaLevel']\n",
      "\n",
      "location: 27.0, indicators: 24\n",
      "['P1H' 'P6H' 'P24H' 'PMSL' 'RH' 'T' 'TDP' 'UVI' 'WD' 'WS' 'CC' 'SM0'\n",
      " 'SM30' 'SM100' 'ST0' 'PC' 'P' 'ETref' 'ETmodel' 'ST30' 'ST100' 'ST10'\n",
      " 'P3H' 'pressureMeanSeaLevel']\n",
      "\n",
      "location: 30.0, indicators: 24\n",
      "['P1H' 'P6H' 'P24H' 'PMSL' 'RH' 'T' 'TDP' 'UVI' 'WD' 'WS' 'CC' 'SM0'\n",
      " 'SM30' 'SM100' 'P3H' 'ST0' 'PC' 'P' 'ETref' 'ETmodel' 'ST30' 'ST100'\n",
      " 'ST10' 'pressureMeanSeaLevel']\n",
      "\n",
      "location: 116.0, indicators: 24\n",
      "['P1H' 'P6H' 'P24H' 'PMSL' 'RH' 'T' 'TDP' 'UVI' 'WD' 'WS' 'CC' 'ETref'\n",
      " 'ETmodel' 'SM0' 'ST0' 'SM30' 'ST30' 'SM100' 'ST100' 'PC' 'P' 'ST10'\n",
      " 'pressureMeanSeaLevel' 'P3H']\n",
      "\n",
      "location: 152.0, indicators: 12\n",
      "['P1H' 'P6H' 'P24H' 'PMSL' 'RH' 'T' 'TDP' 'UVI' 'WD' 'WS' 'PC' 'CC']\n",
      "\n",
      " There are 68097 rows which are duplicated grouped by timestamp,identifier,location_id\n"
     ]
    },
    {
     "data": {
      "text/plain": [
       "[<matplotlib.lines.Line2D at 0x1af176fca90>]"
      ]
     },
     "execution_count": 19,
     "metadata": {},
     "output_type": "execute_result"
    },
    {
     "data": {
      "image/png": "[encoded data removed]",
      "text/plain": [
       "<Figure size 432x288 with 1 Axes>"
      ]
     },
     "metadata": {
      "needs_background": "light"
     },
     "output_type": "display_data"
    }
   ],
   "source": [
    "\n",
    "#check the time window of the dataset\n",
    "print('\\nMin date: {}, Max Date: {}'.format(df.timestamp.min(), df.timestamp.max() ))\n",
    "\n",
    "# unique identifiers\n",
    "unique_id = df.identifier.unique()\n",
    "print('\\nThere are {} unique identifiers.'.format(unique_id.size))\n",
    "#print(unique_id)\n",
    "\n",
    "# unique locations\n",
    "unique_locations =  df.location_id.unique()\n",
    "print('\\nThere are {} unique locations in the dataset.'.format(unique_locations.size))\n",
    "#print(unique_locations)\n",
    "\n",
    "#check each location the numer of unique identifiers\n",
    "for location in unique_locations:\n",
    "    print('\\nlocation: {}, indicators: {}'.format(location,df[df.location_id == location].identifier.unique().size))\n",
    "    print(df[df.location_id == location].identifier.unique())\n",
    "\n",
    "    \n",
    "#check for duplicates \n",
    "print('\\n There are {} rows which are duplicated grouped by timestamp,identifier,location_id'.format(df.duplicated(subset=['timestamp','value','identifier','location_id']).sum()))\n",
    "\n",
    "\n",
    "\n",
    "# from an identidier, check the timeserie\n",
    "x = df.loc[(df['location_id'] == 30.0) & (df['identifier'] == 'PMSL')]\n",
    "plt.plot(x['timestamp'], x['value'])"
   ]
  },
  {
   "cell_type": "markdown",
   "id": "7e9e7bd7",
   "metadata": {},
   "source": [
    "###  Preprocessing the dataset\n",
    "* Drop duplicate rows (based on the timestamp, value, identifier, location_id)\n",
    "* Find Min,Max, Mean for each identifier and the number of occurrences"
   ]
  },
  {
   "cell_type": "code",
   "execution_count": 20,
   "id": "29d316c2",
   "metadata": {
    "scrolled": true
   },
   "outputs": [
    {
     "name": "stdout",
     "output_type": "stream",
     "text": [
      "Identifier P1H has 101416 rows, max value: 6.68, min value: 0.0, mean value: 0.03\n",
      "\n",
      "Identifier P6H has 73108 rows, max value: 15.75, min value: 0.0, mean value: 0.19\n",
      "\n",
      "Identifier P24H has 73101 rows, max value: 27.18, min value: 0.0, mean value: 0.76\n",
      "\n",
      "Identifier PMSL has 312802 rows, max value: 1021.9, min value: 1001.0, mean value: 1011.75\n",
      "\n",
      "Identifier RH has 312361 rows, max value: 100.0, min value: 0.17, mean value: 48.17\n",
      "\n",
      "Identifier T has 328356 rows, max value: 310.79, min value: 6.0, mean value: 65.06\n",
      "\n",
      "Identifier TDP has 109648 rows, max value: 21.7, min value: 4.0, mean value: 13.49\n",
      "\n",
      "Identifier UVI has 205653 rows, max value: 11.0, min value: 0.0, mean value: 3.06\n",
      "\n",
      "Identifier WD has 313593 rows, max value: 360.0, min value: 0.0, mean value: 150.46\n",
      "\n",
      "Identifier WS has 278642 rows, max value: 43.0, min value: 0.0, mean value: 6.79\n",
      "\n",
      "Identifier CC has 73213 rows, max value: 100.0, min value: 0.0, mean value: 9.88\n",
      "\n",
      "Identifier P3H has 714 rows, max value: 5.375, min value: 0.062, mean value: 1.07\n",
      "\n",
      "Identifier SM0 has 6286 rows, max value: 0.271, min value: 0.035, mean value: 0.13\n",
      "\n",
      "Identifier SM30 has 4375 rows, max value: 0.253, min value: 0.155, mean value: 0.22\n",
      "\n",
      "Identifier SM100 has 3941 rows, max value: 0.327, min value: 0.268, mean value: 0.29\n",
      "\n",
      "Identifier ST0 has 7133 rows, max value: 319.5, min value: 284.08, mean value: 300.37\n",
      "\n",
      "Identifier PC has 106568 rows, max value: 99.0, min value: 0.0, mean value: 4.25\n",
      "\n",
      "Identifier P has 38094 rows, max value: 2.14, min value: 0.0, mean value: 0.05\n",
      "\n",
      "Identifier ETref has 5670 rows, max value: 0.907, min value: -0.019, mean value: 0.3\n",
      "\n",
      "Identifier ETmodel has 5565 rows, max value: 0.4579999999999999, min value: -0.003, mean value: 0.1\n",
      "\n",
      "Identifier ST30 has 4613 rows, max value: 298.7, min value: 293.5, mean value: 295.8\n",
      "\n",
      "Identifier ST100 has 3892 rows, max value: 293.4, min value: 287.3, mean value: 289.87\n",
      "\n",
      "Identifier ST10 has 1463 rows, max value: 303.35, min value: 293.19, mean value: 298.77\n",
      "\n",
      "Identifier pressureMeanSeaLevel has 147 rows, max value: 1010.0, min value: 1007.0, mean value: 1009.1\n",
      "\n"
     ]
    },
    {
     "data": {
      "text/plain": [
       "<AxesSubplot:title={'center':'Number of observations'}>"
      ]
     },
     "execution_count": 20,
     "metadata": {},
     "output_type": "execute_result"
    },
    {
     "data": {
      "image/png": "[encoded data removed]",
      "text/plain": [
       "<Figure size 432x288 with 1 Axes>"
      ]
     },
     "metadata": {
      "needs_background": "light"
     },
     "output_type": "display_data"
    }
   ],
   "source": [
    "#remove duplicates. Keep the last record\n",
    "df = df.drop_duplicates(subset=['timestamp','value','identifier','location_id'], keep='last')\n",
    "\n",
    "for id in unique_id:\n",
    "    num_rows = df[df.identifier == id].size\n",
    "    max_value = df[df.identifier == id].value.max()\n",
    "    min_value = df[df.identifier == id].value.min()\n",
    "    mean_value = round(df[df.identifier == id].value.mean(),2)\n",
    "    print('Identifier {} has {} rows, max value: {}, min value: {}, mean value: {}\\n'.format(id,num_rows,max_value,min_value,mean_value))\n",
    "    \n",
    "df['identifier'].value_counts().plot(kind='barh',title = 'Number of observations')"
   ]
  },
  {
   "cell_type": "code",
   "execution_count": 21,
   "id": "806e2ef6",
   "metadata": {
    "scrolled": true
   },
   "outputs": [
    {
     "data": {
      "text/plain": [
       "<AxesSubplot:title={'center':'Number of Observations per location'}, ylabel='identifier'>"
      ]
     },
     "execution_count": 21,
     "metadata": {},
     "output_type": "execute_result"
    },
    {
     "data": {
      "image/png": "[encoded data removed]",
      "text/plain": [
       "<Figure size 432x288 with 1 Axes>"
      ]
     },
     "metadata": {
      "needs_background": "light"
     },
     "output_type": "display_data"
    }
   ],
   "source": [
    "#df['identifier'].value_counts().plot(kind='barh')\n",
    "pd.crosstab(df['identifier'],df['location_id']).plot(kind='barh', title = 'Number of Observations per location')"
   ]
  },
  {
   "cell_type": "markdown",
   "id": "095b0820",
   "metadata": {},
   "source": [
    "##### Investigating the dataset you can found that : \n",
    "* The time period is from 2019-04-25 13:20:09 until 2019-07-29 23:40:08\n",
    "* The dataset has 406719 records\n",
    "* There are no missing values.\n",
    "* Some sample intervals are every 20 minutes \n",
    "* There are 24 unique identifiers which are present only in four location. The fifth location(152.0) has only 12.\n",
    "* There is no equal amount of measurements between identifiers and locations.\n",
    "* There are duplicates rows based on the timestamp, value, identifier and location_id\n",
    "\n",
    "#### Actions that we be made in pre-process\n",
    "\n",
    "* Since the number of observations is different between some identifiers, some identifiers will be drop out.Identifiers that will be dropped : pressureMenSeaLevel, ST30, ST100, ST10, ST0, SM30, SM100, SM0, P3H, ETref, ETmodel,\n",
    "* The observation period is 3 months, so we dont have a full picture of the sesonal obsevations. Thus the year, month and date will be dropped. To keep the cylical data, the time will be kept and transform to cylical data. \n",
    "* Based on the above decision the neural network would not be fed with time-serie like data(windowing, etc). The train data will be shuffled.  "
   ]
  },
  {
   "cell_type": "markdown",
   "id": "a88f7887",
   "metadata": {},
   "source": [
    "#### Tranform timestamp to numeric \n",
    "We need to transform the timestamp to numric so we can feed it to our NN. Since we don't have continous timeseries(based on the timestamp), but we know the feaatures contain periodicity. Thus we have to need to transform them into cylical data. "
   ]
  },
  {
   "cell_type": "code",
   "execution_count": 22,
   "id": "e9c972c6",
   "metadata": {},
   "outputs": [
    {
     "data": {
      "text/html": [
       "<div>\n",
       "<style scoped>\n",
       "    .dataframe tbody tr th:only-of-type {\n",
       "        vertical-align: middle;\n",
       "    }\n",
       "\n",
       "    .dataframe tbody tr th {\n",
       "        vertical-align: top;\n",
       "    }\n",
       "\n",
       "    .dataframe thead th {\n",
       "        text-align: right;\n",
       "    }\n",
       "</style>\n",
       "<table border=\"1\" class=\"dataframe\">\n",
       "  <thead>\n",
       "    <tr style=\"text-align: right;\">\n",
       "      <th></th>\n",
       "      <th>id</th>\n",
       "      <th>timestamp</th>\n",
       "      <th>value</th>\n",
       "      <th>identifier</th>\n",
       "      <th>value_type_id</th>\n",
       "      <th>location_id</th>\n",
       "      <th>source_id</th>\n",
       "      <th>seconds</th>\n",
       "      <th>sin_time</th>\n",
       "      <th>cos_time</th>\n",
       "    </tr>\n",
       "  </thead>\n",
       "  <tbody>\n",
       "    <tr>\n",
       "      <th>2</th>\n",
       "      <td>427434</td>\n",
       "      <td>2019-04-25 13:20:09</td>\n",
       "      <td>-0.0</td>\n",
       "      <td>P6H</td>\n",
       "      <td>13</td>\n",
       "      <td>23.0</td>\n",
       "      <td>5</td>\n",
       "      <td>48009</td>\n",
       "      <td>-0.342635</td>\n",
       "      <td>-0.939469</td>\n",
       "    </tr>\n",
       "    <tr>\n",
       "      <th>3</th>\n",
       "      <td>427435</td>\n",
       "      <td>2019-04-25 13:20:09</td>\n",
       "      <td>-0.0</td>\n",
       "      <td>P24H</td>\n",
       "      <td>14</td>\n",
       "      <td>23.0</td>\n",
       "      <td>5</td>\n",
       "      <td>48009</td>\n",
       "      <td>-0.342635</td>\n",
       "      <td>-0.939469</td>\n",
       "    </tr>\n",
       "    <tr>\n",
       "      <th>0</th>\n",
       "      <td>427436</td>\n",
       "      <td>2019-04-25 13:20:09</td>\n",
       "      <td>3.0</td>\n",
       "      <td>PMSL</td>\n",
       "      <td>20</td>\n",
       "      <td>23.0</td>\n",
       "      <td>5</td>\n",
       "      <td>48009</td>\n",
       "      <td>-0.342635</td>\n",
       "      <td>-0.939469</td>\n",
       "    </tr>\n",
       "    <tr>\n",
       "      <th>9</th>\n",
       "      <td>427437</td>\n",
       "      <td>2019-04-25 13:20:09</td>\n",
       "      <td>0.0</td>\n",
       "      <td>RH</td>\n",
       "      <td>19</td>\n",
       "      <td>23.0</td>\n",
       "      <td>5</td>\n",
       "      <td>48009</td>\n",
       "      <td>-0.342635</td>\n",
       "      <td>-0.939469</td>\n",
       "    </tr>\n",
       "    <tr>\n",
       "      <th>6</th>\n",
       "      <td>427438</td>\n",
       "      <td>2019-04-25 13:20:09</td>\n",
       "      <td>-0.0</td>\n",
       "      <td>T</td>\n",
       "      <td>11</td>\n",
       "      <td>23.0</td>\n",
       "      <td>5</td>\n",
       "      <td>48009</td>\n",
       "      <td>-0.342635</td>\n",
       "      <td>-0.939469</td>\n",
       "    </tr>\n",
       "    <tr>\n",
       "      <th>1</th>\n",
       "      <td>427439</td>\n",
       "      <td>2019-04-25 13:20:09</td>\n",
       "      <td>-0.0</td>\n",
       "      <td>TDP</td>\n",
       "      <td>15</td>\n",
       "      <td>23.0</td>\n",
       "      <td>5</td>\n",
       "      <td>48009</td>\n",
       "      <td>-0.342635</td>\n",
       "      <td>-0.939469</td>\n",
       "    </tr>\n",
       "    <tr>\n",
       "      <th>4</th>\n",
       "      <td>427440</td>\n",
       "      <td>2019-04-25 13:20:09</td>\n",
       "      <td>-0.0</td>\n",
       "      <td>UVI</td>\n",
       "      <td>16</td>\n",
       "      <td>23.0</td>\n",
       "      <td>5</td>\n",
       "      <td>48009</td>\n",
       "      <td>-0.342635</td>\n",
       "      <td>-0.939469</td>\n",
       "    </tr>\n",
       "    <tr>\n",
       "      <th>5</th>\n",
       "      <td>427441</td>\n",
       "      <td>2019-04-25 13:20:09</td>\n",
       "      <td>-0.0</td>\n",
       "      <td>WD</td>\n",
       "      <td>17</td>\n",
       "      <td>23.0</td>\n",
       "      <td>5</td>\n",
       "      <td>48009</td>\n",
       "      <td>-0.342635</td>\n",
       "      <td>-0.939469</td>\n",
       "    </tr>\n",
       "    <tr>\n",
       "      <th>8</th>\n",
       "      <td>427442</td>\n",
       "      <td>2019-04-25 13:20:09</td>\n",
       "      <td>-1.0</td>\n",
       "      <td>WS</td>\n",
       "      <td>18</td>\n",
       "      <td>23.0</td>\n",
       "      <td>5</td>\n",
       "      <td>48009</td>\n",
       "      <td>-0.342635</td>\n",
       "      <td>-0.939469</td>\n",
       "    </tr>\n",
       "    <tr>\n",
       "      <th>18</th>\n",
       "      <td>427664</td>\n",
       "      <td>2019-04-25 13:40:09</td>\n",
       "      <td>-0.0</td>\n",
       "      <td>P6H</td>\n",
       "      <td>13</td>\n",
       "      <td>23.0</td>\n",
       "      <td>5</td>\n",
       "      <td>49209</td>\n",
       "      <td>-0.423211</td>\n",
       "      <td>-0.906031</td>\n",
       "    </tr>\n",
       "  </tbody>\n",
       "</table>\n",
       "</div>"
      ],
      "text/plain": [
       "        id           timestamp  value identifier  value_type_id  location_id  \\\n",
       "2   427434 2019-04-25 13:20:09   -0.0        P6H             13         23.0   \n",
       "3   427435 2019-04-25 13:20:09   -0.0       P24H             14         23.0   \n",
       "0   427436 2019-04-25 13:20:09    3.0       PMSL             20         23.0   \n",
       "9   427437 2019-04-25 13:20:09    0.0         RH             19         23.0   \n",
       "6   427438 2019-04-25 13:20:09   -0.0          T             11         23.0   \n",
       "1   427439 2019-04-25 13:20:09   -0.0        TDP             15         23.0   \n",
       "4   427440 2019-04-25 13:20:09   -0.0        UVI             16         23.0   \n",
       "5   427441 2019-04-25 13:20:09   -0.0         WD             17         23.0   \n",
       "8   427442 2019-04-25 13:20:09   -1.0         WS             18         23.0   \n",
       "18  427664 2019-04-25 13:40:09   -0.0        P6H             13         23.0   \n",
       "\n",
       "    source_id  seconds  sin_time  cos_time  \n",
       "2           5    48009 -0.342635 -0.939469  \n",
       "3           5    48009 -0.342635 -0.939469  \n",
       "0           5    48009 -0.342635 -0.939469  \n",
       "9           5    48009 -0.342635 -0.939469  \n",
       "6           5    48009 -0.342635 -0.939469  \n",
       "1           5    48009 -0.342635 -0.939469  \n",
       "4           5    48009 -0.342635 -0.939469  \n",
       "5           5    48009 -0.342635 -0.939469  \n",
       "8           5    48009 -0.342635 -0.939469  \n",
       "18          5    49209 -0.423211 -0.906031  "
      ]
     },
     "execution_count": 22,
     "metadata": {},
     "output_type": "execute_result"
    }
   ],
   "source": [
    "# drop rows thaat contain the identifiers: pressureMenSeaLevel, ST30, ST100, ST10, ST0, SM30, SM100, SM0, P3H, ETref, ETmodel\n",
    "df = df[df['identifier'] != 'pressureMeanSeaLevel']\n",
    "df = df[df['identifier'] != 'ST30']\n",
    "df = df[df['identifier'] != 'ST100']\n",
    "df = df[df['identifier'] != 'ST10']\n",
    "df = df[df['identifier'] != 'ST0']\n",
    "df = df[df['identifier'] != 'SM30']\n",
    "df = df[df['identifier'] != 'SM100']\n",
    "df = df[df['identifier'] != 'SM0']\n",
    "df = df[df['identifier'] != 'P3H']\n",
    "df = df[df['identifier'] != 'ETref']\n",
    "df = df[df['identifier'] != 'ETmodel']\n",
    "df = df[df['identifier'] != 'CC']\n",
    "df = df[df['identifier'] != 'P']\n",
    "df = df[df['identifier'] != 'P1H']\n",
    "\n",
    "# Convert the time with sin and cos\n",
    "#df['year'] = pd.to_datetime(df['timestamp']).dt.year\n",
    "#df['month'] =  pd.to_datetime(df['timestamp']).dt.month\n",
    "#df['day'] = pd.to_datetime(df['timestamp']).dt.day\n",
    "#df['time'] = pd.to_datetime(df['timestamp']).dt.time\n",
    "df['seconds'] = ((pd.to_datetime(df['timestamp']).dt.hour) * 3600) + ((pd.to_datetime(df['timestamp']).dt.minute) * 60) + (pd.to_datetime(df['timestamp']).dt.second)\n",
    "\n",
    "# apply cos and sin into the seconds\n",
    "seconds_in_day = 24*60*60\n",
    "df['sin_time'] = np.sin(2*np.pi*df['seconds']/seconds_in_day)\n",
    "df['cos_time'] = np.cos(2*np.pi*df['seconds']/seconds_in_day)\n",
    "\n",
    "\n",
    "#standarize the dataset\n",
    "df['value'] = df.groupby('identifier')['value'].transform(lambda x: round((x - x.mean()) / x.std()))\n",
    "\n",
    "#shuffle dataset\n",
    "df.sample(frac=1).reset_index(drop=True)\n",
    "\n",
    "df.head(10)\n"
   ]
  },
  {
   "cell_type": "code",
   "execution_count": 23,
   "id": "e78dfa83",
   "metadata": {
    "scrolled": true
   },
   "outputs": [
    {
     "name": "stdout",
     "output_type": "stream",
     "text": [
      "Identifier P6H has 261100 rows, max value: 14.0, min value: -0.0, mean value: 0.15\n",
      "\n",
      "Identifier P24H has 261075 rows, max value: 8.0, min value: -0.0, mean value: 0.19\n",
      "\n",
      "Identifier PMSL has 1117150 rows, max value: 3.0, min value: -3.0, mean value: 0.02\n",
      "\n",
      "Identifier RH has 1115575 rows, max value: 2.0, min value: -2.0, mean value: -0.0\n",
      "\n",
      "Identifier T has 1172700 rows, max value: 3.0, min value: -1.0, mean value: 0.26\n",
      "\n",
      "Identifier TDP has 391600 rows, max value: 3.0, min value: -3.0, mean value: 0.06\n",
      "\n",
      "Identifier UVI has 734475 rows, max value: 2.0, min value: -1.0, mean value: -0.08\n",
      "\n",
      "Identifier WD has 1119975 rows, max value: 2.0, min value: -1.0, mean value: -0.02\n",
      "\n",
      "Identifier WS has 995150 rows, max value: 5.0, min value: -1.0, mean value: -0.02\n",
      "\n",
      "Identifier PC has 380600 rows, max value: 9.0, min value: -0.0, mean value: 0.25\n",
      "\n"
     ]
    }
   ],
   "source": [
    "# replace the categorical columns 'location_id' and 'identifier' with numeric with dummies\n",
    "df_location = pd.get_dummies(df['location_id'])\n",
    "df_identifier = pd.get_dummies(df['identifier'])\n",
    "df = pd.concat([df, df_location,df_identifier], axis=1)\n",
    "df.head(10)\n",
    "\n",
    "#check the values\n",
    "unique_id= df.identifier.unique()\n",
    "for id in unique_id:\n",
    "    num_rows = df[df.identifier == id].size\n",
    "    max_value = df[df.identifier == id].value.max()\n",
    "    min_value = df[df.identifier == id].value.min()\n",
    "    mean_value = round(df[df.identifier == id].value.mean(),2)\n",
    "    print('Identifier {} has {} rows, max value: {}, min value: {}, mean value: {}\\n'.format(id,num_rows,max_value,min_value,mean_value))"
   ]
  },
  {
   "cell_type": "markdown",
   "id": "10b1303c",
   "metadata": {},
   "source": [
    "### Second Part - Building the Neural Network\n",
    "* The new columns will be used as input variables and the value column will be used as output More specifically, the input layer will have 19 inputs neurons. 2 inputs for columns time_sin, time_cos, 12 columns which each represent the identifier , and 4 for each location."
   ]
  },
  {
   "cell_type": "code",
   "execution_count": null,
   "id": "721548fc",
   "metadata": {},
   "outputs": [
    {
     "name": "stdout",
     "output_type": "stream",
     "text": [
      "   value  sin_time  cos_time  23.0  27.0  30.0  116.0  152.0  P24H  P6H  PC  \\\n",
      "2   -0.0 -0.342635 -0.939469     1     0     0      0      0     0    1   0   \n",
      "3   -0.0 -0.342635 -0.939469     1     0     0      0      0     1    0   0   \n",
      "\n",
      "   PMSL  RH  T  TDP  UVI  WD  WS  \n",
      "2     0   0  0    0    0   0   0  \n",
      "3     0   0  0    0    0   0   0  \n",
      "TensorFlow version: 2.10.0\n",
      "Epoch 1/40\n",
      "1933/1933 [==============================] - 2s 1ms/step - loss: 0.2243 - accuracy: 0.4581 - val_loss: 0.1919 - val_accuracy: 0.4631\n",
      "Epoch 2/40\n",
      "1933/1933 [==============================] - 2s 1ms/step - loss: 0.2050 - accuracy: 0.4581 - val_loss: 0.1708 - val_accuracy: 0.4631\n",
      "Epoch 3/40\n",
      "1933/1933 [==============================] - 2s 1ms/step - loss: 0.1722 - accuracy: 0.4581 - val_loss: 0.1149 - val_accuracy: 0.4631\n",
      "Epoch 4/40\n",
      "1933/1933 [==============================] - 2s 1ms/step - loss: 0.1174 - accuracy: 0.4572 - val_loss: 0.0301 - val_accuracy: 0.4631\n",
      "Epoch 5/40\n",
      "1933/1933 [==============================] - 2s 1ms/step - loss: -0.5346 - accuracy: 0.4399 - val_loss: -5.1112 - val_accuracy: 0.3457\n",
      "Epoch 6/40\n",
      " 757/1933 [==========>...................] - ETA: 1s - loss: 693.5118 - accuracy: 0.4453"
     ]
    }
   ],
   "source": [
    "# drop no neccessary columns\n",
    "drop_col = ['id', 'timestamp','identifier','location_id','value_type_id','source_id','seconds']\n",
    "clean_df = df.drop(drop_col, axis=1)\n",
    "\n",
    "#print(clean_df.head(2))\n",
    "\n",
    "# create the train data and test data\n",
    "import tensorflow as tf\n",
    "from sklearn.model_selection import train_test_split\n",
    "\n",
    "#check the version of tensorflow\n",
    "print(\"TensorFlow version:\", tf.__version__)\n",
    "\n",
    "\n",
    "\n",
    "\n",
    "# shuffle dataset\n",
    "clean_df = clean_df.sample(frac=1).reset_index(drop=True)\n",
    "\n",
    "\n",
    "Y = clean_df.pop('value') \n",
    "X = clean_df\n",
    "\n",
    "X_train, X_test, Y_train, Y_test = train_test_split(X, Y, test_size=0.2)\n",
    "\n",
    "#print(X_train.shape, X_test.shape, Y_train.shape, Y_test.shape)\n",
    "\n",
    "\n",
    "from keras.models import Sequential\n",
    "from keras.layers import Dense, Dropout\n",
    "\n",
    "model = Sequential([\n",
    "    Dense(42, activation='sigmoid', input_shape=(17,)),\n",
    "    Dense(86, activation='relu'),\n",
    "    Dense(42, activation='relu'),\n",
    "    Dense(1, activation='sigmoid'),\n",
    "])\n",
    "\n",
    "\n",
    "model.compile(optimizer='sgd',\n",
    "              loss='binary_crossentropy',\n",
    "              metrics=['accuracy'])\n",
    "\n",
    "hist = model.fit(X_train, Y_train,\n",
    "          batch_size=125, epochs=40,\n",
    "          validation_data=(X_test, Y_test))\n",
    "\n",
    "\n",
    "#plot loss\n",
    "plt.plot(hist.history['loss'])\n",
    "plt.plot(hist.history['val_loss'])\n",
    "plt.title('Model loss')\n",
    "plt.ylabel('Loss')\n",
    "plt.xlabel('Epoch')\n",
    "plt.legend(['Train', 'Val'], loc='upper right')\n",
    "plt.show()\n"
   ]
  },
  {
   "cell_type": "code",
   "execution_count": null,
   "id": "96617de2",
   "metadata": {},
   "outputs": [],
   "source": []
  },
  {
   "cell_type": "code",
   "execution_count": null,
   "id": "9849a0da",
   "metadata": {},
   "outputs": [],
   "source": []
  }
 ],
 "metadata": {
  "kernelspec": {
   "display_name": "Python 3",
   "language": "python",
   "name": "python3"
  },
  "language_info": {
   "codemirror_mode": {
    "name": "ipython",
    "version": 3
   },
   "file_extension": ".py",
   "mimetype": "text/x-python",
   "name": "python",
   "nbconvert_exporter": "python",
   "pygments_lexer": "ipython3",
   "version": "3.8.8"
  }
 },
 "nbformat": 4,
 "nbformat_minor": 5
}
